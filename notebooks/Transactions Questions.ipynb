{
 "cells": [
  {
   "cell_type": "code",
   "execution_count": 1,
   "id": "moved-child",
   "metadata": {},
   "outputs": [],
   "source": [
    "from transactions_assessment.loaders.data_loaders import TransactionLoader, ModelDataLoader\n",
    "from transactions_assessment.detectors.detector_models import RFDetector\n",
    "from transactions_assessment.logging import logging_config\n",
    "from pandas_profiling import ProfileReport\n",
    "from logging.config import dictConfig"
   ]
  },
  {
   "cell_type": "code",
   "execution_count": 2,
   "id": "improving-harmony",
   "metadata": {},
   "outputs": [],
   "source": [
    "dictConfig(logging_config)\n",
    "\n",
    "# change path here to wherever data file is stored\n",
    "data_file = \"../data/transactions.txt\""
   ]
  },
  {
   "cell_type": "markdown",
   "id": "dominant-monday",
   "metadata": {},
   "source": [
    "# Question 1\n",
    "In the next few cells I am going to answer the items in question 1. For loading the data, I am going to use a custom data loader class, we can get the number of rows and columns by calling the 'shape' attribute of the pandas dataframe. I am going to use a python package call \"pandas profiling\" to quickly get a summary of the dataset. \n",
    "- Data is loaded below\n",
    "- The data has 786,363 rows and 29 columns\n",
    "- Pandas Profiling was used to get the summary statistics for each field"
   ]
  },
  {
   "cell_type": "code",
   "execution_count": 21,
   "id": "sized-church",
   "metadata": {},
   "outputs": [],
   "source": [
    "loader = TransactionLoader(data_file)"
   ]
  },
  {
   "cell_type": "code",
   "execution_count": 22,
   "id": "spread-ranking",
   "metadata": {},
   "outputs": [
    {
     "name": "stderr",
     "output_type": "stream",
     "text": [
      "2021-03-01 18:06:54,676 transactions_assessment.loaders INFO     Reading data file records\n",
      "2021-03-01 18:07:12,297 transactions_assessment.loaders INFO     786363 out of 786363 lines successfully read.\n"
     ]
    }
   ],
   "source": [
    "df = loader.load_unprocessed()"
   ]
  },
  {
   "cell_type": "code",
   "execution_count": 26,
   "id": "injured-basis",
   "metadata": {},
   "outputs": [],
   "source": [
    "# the output of the pandas profile report can be found in the summary_report.html file in the notebooks directory. \n",
    "#I'm commenting this out to save my reveiwers from an awfully \n",
    "# long time to wait. to re-create the results, just uncomment the bottom line below and run cell. \n",
    "# I'm leaving it commented out for now. It also looks like my logging config\n",
    "# is not set to disable the matplotlib logger, so you will get a lot of logging info unfortunately..\n",
    "\n",
    "#profile = ProfileReport(df, title=\"transactional summary\", explorative=True)"
   ]
  },
  {
   "cell_type": "code",
   "execution_count": 1,
   "id": "fleet-little",
   "metadata": {},
   "outputs": [],
   "source": [
    "# profile.to_notebook_iframe()"
   ]
  },
  {
   "cell_type": "markdown",
   "id": "surgical-header",
   "metadata": {},
   "source": [
    "# Question 2\n",
    "- Plot a histogram of the processed amounts of each transaction, the transactionAmount column\n",
    "- Report any structure you find and any hypotheses you have about that structure\n",
    "\n",
    "Although we already have the histogram produced in the above pandas-profiling report, below is another histogram produced using the pandas built-in method \"hist\". \n",
    "We can see by looking at this histogram that the max is over 2000 (2011.54), the min is 0, and the mean is 136.98.\n",
    "There are a lot of records that have a small value for this field, skewing the distribution heavily to the right. We will probably want to transform this variable using something like a log-transformation later when we start modeling."
   ]
  },
  {
   "cell_type": "code",
   "execution_count": 7,
   "id": "greatest-photography",
   "metadata": {},
   "outputs": [
    {
     "data": {
      "text/plain": [
       "<AxesSubplot:>"
      ]
     },
     "execution_count": 7,
     "metadata": {},
     "output_type": "execute_result"
    },
    {
     "data": {
      "image/png": "[encoded data removed]",
      "text/plain": [
       "<Figure size 432x288 with 1 Axes>"
      ]
     },
     "metadata": {
      "needs_background": "light"
     },
     "output_type": "display_data"
    }
   ],
   "source": [
    "df.transactionAmount.hist(bins=50)"
   ]
  },
  {
   "cell_type": "markdown",
   "id": "confirmed-luther",
   "metadata": {},
   "source": [
    "# Question 3\n",
    "- Can you programmatically identify reversed and multi-swipe transactions?\n",
    "- What total number of transactions and total dollar amount do you estimate for the reversed transactions? For the multi-swipe transactions? (please consider the first transaction to be \"normal\" and exclude it from the number of transaction and dollar amount counts)\n",
    "- Did you find anything interesting about either kind of transaction?\n",
    "\n",
    "From a quick look at the transactionType variable, I can see that there are three unique types: Purchase, Address_verification, and Reversal. So assuming those labels are correct, we can identify the reversal transactions by locating the transations with the transactionType value of 'REVERSAL'. There does not seem to be a label for multi-swipe, however. My first thought is that we may be able to get these transactions by looking at the transactionDate variable and labeling transactions as \"multi-swipe\" if two transactions occur within some time window. \n",
    "\n",
    "Since comparing  each date-time to every row in the dataset would be costly computationally, I am going to first sort the dataframe by transactionDate, then loop through each transationDateTime value starting with the second value (we are calling the first value of a series of multi-swipes \"normal\", so the first value will always be \"normal\"). For each iteration, I will compare the current value to the previous value. If the current value is within some time window of the previous value, I will mark that row as a 'multi-swipe'. I will also use account number and transaction amount to further dictate what is considered a multi-swipe. Additionaly I will only label transactions as multi-swipe if the transationType is \"Purchase\" (and all other conditions are met).\n",
    "\n",
    "\n",
    "The end result will be a new column called \"multi-swipe' where each value will be either 0, for not multiswipe or 1, for multiswipe. Since this variable will likely be useful for modeling, I am going to implement this logic in the TransactionLoader class. I am also not sure about the format of the transactionDate column its obviously a string currently but it looks kind of weird (ex: '2016-05-28T14:24:41' - what is that 'T' doing in there) so I will probably have to turn this value into a propper date-time type while I'm at it. While I could do this in the base DataLoader class where I am parsing though each line of the text file, I would rather implement this in the child class TransactionLoader in order to keep the loading of raw data seperate from any kind of preprocessing. \n",
    "\n",
    "After experimenting with different time windows, I have chosen 5 minutes to be the cut-off. It seems that increasing from 5 minutes doesn't yeild much of an increase in transactions classified as \"multi-swipe\". My reasoning here is that without knowing exactly how long a credit card transaction takes to be logged, I have to choose a somewhat arbitrary cut-off time. It is probably pretty unusual for a person to repeat the exact same transation within 5 minutes. While this same logic could apply to a larger time window, there does not seem to be much of an increase in detected multi-swipes and at some point, we can expect those transactions to be \"valid\", recurring purchases.\n",
    "\n",
    "## Answers\n",
    "- Yes, general approach is described above\n",
    "- number of transactions and transaction total amount\n",
    "    - Multi swipe number of transactions: 7373\n",
    "    - Multi swipe total transaction amount: \\$1009589.19\n",
    "    - Reversals number of transactions: 20303\n",
    "    - Reversals total transaction amount: \\$2821792.5\n",
    "- Interesting things:\n"
   ]
  },
  {
   "cell_type": "code",
   "execution_count": null,
   "id": "banner-adrian",
   "metadata": {},
   "outputs": [],
   "source": [
    "preprocessed_df = loader.preprocess_data()"
   ]
  },
  {
   "cell_type": "code",
   "execution_count": 33,
   "id": "atmospheric-treaty",
   "metadata": {},
   "outputs": [
    {
     "name": "stdout",
     "output_type": "stream",
     "text": [
      "Sum of transaction amounts from multi-swipes: 1009589.19\n",
      "Total transactions classified as multi-swipe (using 5 minute time-window): 7373\n"
     ]
    }
   ],
   "source": [
    "multi_swipes = preprocessed_df.loc[preprocessed_df.multi_swipe == 1].transactionAmount\n",
    "print(f'Sum of transaction amounts from multi-swipes: {multi_swipes.sum()}')\n",
    "print(f'Total transactions classified as multi-swipe (using 5 minute time-window): {multi_swipes.shape[0]}')\n"
   ]
  },
  {
   "cell_type": "code",
   "execution_count": 34,
   "id": "temporal-london",
   "metadata": {},
   "outputs": [
    {
     "name": "stdout",
     "output_type": "stream",
     "text": [
      "Sum of transaction amounts from reversals: 2821792.5000000005\n",
      "Total transactions classified as reversals: 20303\n"
     ]
    }
   ],
   "source": [
    "reversals = preprocessed_df.loc[preprocessed_df.transactionType.apply(lambda k: k.lower()) == 'reversal']\n",
    "print(f'Sum of transaction amounts from reversals: {reversals.transactionAmount.sum()}')\n",
    "print(f'Total transactions classified as reversals: {reversals.shape[0]}')"
   ]
  },
  {
   "cell_type": "markdown",
   "id": "valued-sector",
   "metadata": {},
   "source": [
    "# Question 4\n",
    "- Each of the transactions in the dataset has a field called isFraud. Please build a predictive model to determine whether a given transaction will be fraudulent or not. Use as much of the data as you like (or all of it).\n",
    "- Provide an estimate of performance using an appropriate sample, and show your work.\n",
    "- Please explain your methodology (modeling algorithm/method used and why, what features/data you found useful, what questions you have, and what you would do next with more time)\n",
    "\n",
    "From examining the data in the above questions, I see that there are quite a few categorical variables that will need to be preprocessed prior to fitting any type of model. After looking at the value counts, I can see that many of these have thousands of different values. \n",
    "\n",
    "My approach to modeling is going to be focused around rapid prototyping. I want to be able to quickly test out differnt models with different processing methods without waiting many minutes for each model train. To accomplish this, I am going to start by throwing out the 'problem' variables (cats with lots of distinct values). Depending on where I am on time, and how well my model is doing, I can go back focus on the variables I discarded originally. I'm going to restrict the size of the dataset to a point where I can load, fit, and score a model in less than a minute so that I can get a rough guess of how well my model is doing.\n",
    "\n",
    "I am going to start with a random forest classifier. Typically, these are pretty quick to train and are a good starting point. We dont have to worry about satisfying any statistical assumptions or whether or not the accuracy can be trusted. If a random forest fails horribly, we can usually assume that we either did something wrong with the pre-processing, or we are asking the wrong question of the dataset."
   ]
  },
  {
   "cell_type": "code",
   "execution_count": 3,
   "id": "younger-publisher",
   "metadata": {},
   "outputs": [
    {
     "name": "stderr",
     "output_type": "stream",
     "text": [
      "2021-03-02 13:04:11,196 transactions_assessment.loaders INFO     Reading data file records\n",
      "2021-03-02 13:04:13,032 transactions_assessment.loaders INFO     100000 out of 100000 lines successfully read.\n"
     ]
    }
   ],
   "source": [
    "# using the first 100,000 records\n",
    "data_loader = ModelDataLoader(data_file, limit=100000)\n",
    "x_train, x_test, y_train, y_test = data_loader.preprocess_data()"
   ]
  },
  {
   "cell_type": "code",
   "execution_count": 4,
   "id": "pharmaceutical-trial",
   "metadata": {},
   "outputs": [],
   "source": [
    "rf_detector = RFDetector()"
   ]
  },
  {
   "cell_type": "code",
   "execution_count": 5,
   "id": "provincial-checkout",
   "metadata": {},
   "outputs": [
    {
     "data": {
      "text/plain": [
       "Pipeline(steps=[('scaler', StandardScaler()), ('rf', RandomForestClassifier())])"
      ]
     },
     "execution_count": 5,
     "metadata": {},
     "output_type": "execute_result"
    }
   ],
   "source": [
    "# heres what the current pipeline looks like\n",
    "rf_detector.pipe"
   ]
  },
  {
   "cell_type": "code",
   "execution_count": 6,
   "id": "genetic-slovak",
   "metadata": {},
   "outputs": [
    {
     "name": "stderr",
     "output_type": "stream",
     "text": [
      "2021-03-02 13:04:29,147 RFDetector   INFO     Training model..\n",
      "2021-03-02 13:04:39,997 RFDetector   INFO     Model training complete.\n"
     ]
    }
   ],
   "source": [
    "rf_detector.train(x_train, y_train)"
   ]
  },
  {
   "cell_type": "code",
   "execution_count": 7,
   "id": "dated-polyester",
   "metadata": {},
   "outputs": [
    {
     "name": "stdout",
     "output_type": "stream",
     "text": [
      "train score: 0.999975 test score: 0.98685\n"
     ]
    }
   ],
   "source": [
    "rf_detector.print_score(x_train, y_train, x_test, y_test)"
   ]
  },
  {
   "cell_type": "markdown",
   "id": "exact-position",
   "metadata": {},
   "source": [
    "So it looks like my model did pretty well. Training and test scores are 99 and 98 percent. However I have a guess of why thats the case.."
   ]
  },
  {
   "cell_type": "code",
   "execution_count": 8,
   "id": "architectural-spoke",
   "metadata": {},
   "outputs": [
    {
     "name": "stdout",
     "output_type": "stream",
     "text": [
      "              precision    recall  f1-score   support\n",
      "\n",
      "           0       0.99      1.00      0.99     19686\n",
      "           1       0.93      0.18      0.29       314\n",
      "\n",
      "    accuracy                           0.99     20000\n",
      "   macro avg       0.96      0.59      0.64     20000\n",
      "weighted avg       0.99      0.99      0.98     20000\n",
      "\n"
     ]
    }
   ],
   "source": [
    "rf_detector.print_confusion(x_test, y_test)"
   ]
  },
  {
   "cell_type": "code",
   "execution_count": 10,
   "id": "confused-convert",
   "metadata": {},
   "outputs": [
    {
     "data": {
      "image/png": "[encoded data removed]",
      "text/plain": [
       "<Figure size 432x288 with 2 Axes>"
      ]
     },
     "metadata": {
      "needs_background": "light"
     },
     "output_type": "display_data"
    }
   ],
   "source": [
    "rf_detector.plot_confusion(x_test, y_test)"
   ]
  },
  {
   "cell_type": "markdown",
   "id": "subjective-explorer",
   "metadata": {},
   "source": [
    "From looking at the confusion matrix, I can see that there are very few cases of fraud. As seen in the clasification report above, the model's recall is very low, meaning that it's labeleling a lot of fraud cases as not-fraud. \n",
    "\n",
    "The cause of this is likley due to an imbalanced dataset (lots of examples from one class -in this case, not-fraud. I am going to use over-sampling to repeated duplicate random examples of fraud. This will lead to an large increase in the number of observations in our dataset. To keep the training time relatively low, I am going to use sub-sampling from the new balanced dataset to randomly select a sample of observations with replacement from the dataset for each estimator."
   ]
  },
  {
   "cell_type": "code",
   "execution_count": 11,
   "id": "weird-croatia",
   "metadata": {},
   "outputs": [],
   "source": [
    "rf_detector.set_samples(sampling_strategy='minority')\n",
    "rf_detector.use_bootstrap(max_samples=.1)"
   ]
  },
  {
   "cell_type": "code",
   "execution_count": 12,
   "id": "rational-summit",
   "metadata": {},
   "outputs": [
    {
     "name": "stderr",
     "output_type": "stream",
     "text": [
      "2021-03-02 13:10:40,487 RFDetector   INFO     Training model..\n",
      "2021-03-02 13:10:46,353 RFDetector   INFO     Model training complete.\n"
     ]
    }
   ],
   "source": [
    "rf_detector.train(x_train, y_train)"
   ]
  },
  {
   "cell_type": "code",
   "execution_count": 13,
   "id": "healthy-campbell",
   "metadata": {},
   "outputs": [
    {
     "name": "stdout",
     "output_type": "stream",
     "text": [
      "train score: 0.993025 test score: 0.97835\n"
     ]
    }
   ],
   "source": [
    "rf_detector.print_score(x_train, y_train, x_test, y_test)"
   ]
  },
  {
   "cell_type": "code",
   "execution_count": 15,
   "id": "christian-validation",
   "metadata": {},
   "outputs": [
    {
     "name": "stdout",
     "output_type": "stream",
     "text": [
      "              precision    recall  f1-score   support\n",
      "\n",
      "           0       0.99      0.99      0.99     19686\n",
      "           1       0.32      0.34      0.33       314\n",
      "\n",
      "    accuracy                           0.98     20000\n",
      "   macro avg       0.66      0.67      0.66     20000\n",
      "weighted avg       0.98      0.98      0.98     20000\n",
      "\n"
     ]
    }
   ],
   "source": [
    "rf_detector.print_confusion(x_test, y_test)"
   ]
  },
  {
   "cell_type": "markdown",
   "id": "resident-italic",
   "metadata": {},
   "source": [
    "Ok, great so our recall increased, but our presicion decreased. I'm now going to try tuning the hyperparamters of the random forest to see if I the defaults happend to be really bad for this use case."
   ]
  },
  {
   "cell_type": "code",
   "execution_count": 18,
   "id": "hairy-latvia",
   "metadata": {},
   "outputs": [
    {
     "data": {
      "text/plain": [
       "{'rf__n_estimators': [50, 100, 200, 500],\n",
       " 'rf__max_depth': [None, 10, 30, 50, 70, 100],\n",
       " 'rf__min_samples_split': [2, 4, 8],\n",
       " 'rf__max_features': ['sqrt', 'auto'],\n",
       " 'rf__max_samples': [0.1, 0.5]}"
      ]
     },
     "execution_count": 18,
     "metadata": {},
     "output_type": "execute_result"
    }
   ],
   "source": [
    "# heres what parameters we are searching via randomized grid search\n",
    "rf_detector.param_grid"
   ]
  },
  {
   "cell_type": "code",
   "execution_count": 16,
   "id": "tough-minneapolis",
   "metadata": {},
   "outputs": [
    {
     "name": "stdout",
     "output_type": "stream",
     "text": [
      "best params: {'rf__n_estimators': 50, 'rf__min_samples_split': 8, 'rf__max_samples': 0.5, 'rf__max_features': 'sqrt', 'rf__max_depth': None} \n",
      " best score: 0.8363308270676691\n"
     ]
    }
   ],
   "source": [
    "rf_detector.grid_search(x_train, y_train, n_iter=20)"
   ]
  },
  {
   "cell_type": "code",
   "execution_count": 19,
   "id": "applicable-ghost",
   "metadata": {},
   "outputs": [
    {
     "data": {
      "text/plain": [
       "Pipeline(steps=[('sampler', RandomOverSampler(sampling_strategy='minority')),\n",
       "                ('scaler', StandardScaler()),\n",
       "                ('rf',\n",
       "                 RandomForestClassifier(max_features='sqrt', max_samples=0.5,\n",
       "                                        min_samples_split=8,\n",
       "                                        n_estimators=50))])"
      ]
     },
     "execution_count": 19,
     "metadata": {},
     "output_type": "execute_result"
    }
   ],
   "source": [
    "# inserting the parameters back into the pipeline's random forest\n",
    "rf_params = {'rf__n_estimators': 50,\n",
    "             'rf__min_samples_split': 8,\n",
    "             'rf__max_samples': 0.5,\n",
    "             'rf__max_features': 'sqrt',\n",
    "             'rf__max_depth': None}\n",
    "rf_detector.pipe.set_params(**rf_params)"
   ]
  },
  {
   "cell_type": "code",
   "execution_count": 22,
   "id": "competent-wallpaper",
   "metadata": {},
   "outputs": [
    {
     "data": {
      "text/plain": [
       "Pipeline(steps=[('sampler', RandomOverSampler(sampling_strategy='minority')),\n",
       "                ('scaler', StandardScaler()),\n",
       "                ('rf',\n",
       "                 RandomForestClassifier(max_depth=50, max_samples=0.5,\n",
       "                                        min_samples_split=8,\n",
       "                                        n_estimators=200))])"
      ]
     },
     "execution_count": 22,
     "metadata": {},
     "output_type": "execute_result"
    }
   ],
   "source": [
    "rf_detector.pipe.set_params(**{'rf__n_estimators': 200, 'rf__min_samples_split': 8, 'rf__max_samples': 0.5, 'rf__max_features': 'auto', 'rf__max_depth': 50})"
   ]
  },
  {
   "cell_type": "code",
   "execution_count": 20,
   "id": "purple-nitrogen",
   "metadata": {},
   "outputs": [
    {
     "data": {
      "text/plain": [
       "{'memory': None,\n",
       " 'steps': [('sampler', RandomOverSampler(sampling_strategy='minority')),\n",
       "  ('scaler', StandardScaler()),\n",
       "  ('rf',\n",
       "   RandomForestClassifier(max_features='sqrt', max_samples=0.5,\n",
       "                          min_samples_split=8, n_estimators=50))],\n",
       " 'verbose': False,\n",
       " 'sampler': RandomOverSampler(sampling_strategy='minority'),\n",
       " 'scaler': StandardScaler(),\n",
       " 'rf': RandomForestClassifier(max_features='sqrt', max_samples=0.5,\n",
       "                        min_samples_split=8, n_estimators=50),\n",
       " 'sampler__random_state': None,\n",
       " 'sampler__sampling_strategy': 'minority',\n",
       " 'sampler__shrinkage': None,\n",
       " 'scaler__copy': True,\n",
       " 'scaler__with_mean': True,\n",
       " 'scaler__with_std': True,\n",
       " 'rf__bootstrap': True,\n",
       " 'rf__ccp_alpha': 0.0,\n",
       " 'rf__class_weight': None,\n",
       " 'rf__criterion': 'gini',\n",
       " 'rf__max_depth': None,\n",
       " 'rf__max_features': 'sqrt',\n",
       " 'rf__max_leaf_nodes': None,\n",
       " 'rf__max_samples': 0.5,\n",
       " 'rf__min_impurity_decrease': 0.0,\n",
       " 'rf__min_impurity_split': None,\n",
       " 'rf__min_samples_leaf': 1,\n",
       " 'rf__min_samples_split': 8,\n",
       " 'rf__min_weight_fraction_leaf': 0.0,\n",
       " 'rf__n_estimators': 50,\n",
       " 'rf__n_jobs': None,\n",
       " 'rf__oob_score': False,\n",
       " 'rf__random_state': None,\n",
       " 'rf__verbose': 0,\n",
       " 'rf__warm_start': False}"
      ]
     },
     "execution_count": 20,
     "metadata": {},
     "output_type": "execute_result"
    }
   ],
   "source": [
    "# making sure that my parameters were acutally loaded (looks abbreviated in the above output)\n",
    "rf_detector.pipe.get_params()"
   ]
  },
  {
   "cell_type": "code",
   "execution_count": 23,
   "id": "waiting-neighborhood",
   "metadata": {},
   "outputs": [
    {
     "name": "stderr",
     "output_type": "stream",
     "text": [
      "2021-03-02 13:31:09,838 RFDetector   INFO     Training model..\n",
      "2021-03-02 13:31:35,927 RFDetector   INFO     Model training complete.\n"
     ]
    },
    {
     "name": "stdout",
     "output_type": "stream",
     "text": [
      "              precision    recall  f1-score   support\n",
      "\n",
      "           0       0.99      1.00      0.99     19686\n",
      "           1       0.84      0.25      0.39       314\n",
      "\n",
      "    accuracy                           0.99     20000\n",
      "   macro avg       0.91      0.63      0.69     20000\n",
      "weighted avg       0.99      0.99      0.98     20000\n",
      "\n"
     ]
    }
   ],
   "source": [
    "# refitting with updated hyper-parameters\n",
    "rf_detector.train(x_train, y_train)\n",
    "rf_detector.print_confusion(x_test, y_test)"
   ]
  },
  {
   "cell_type": "code",
   "execution_count": 17,
   "id": "numerical-glucose",
   "metadata": {},
   "outputs": [
    {
     "name": "stderr",
     "output_type": "stream",
     "text": [
      "2021-03-01 17:44:23,408 transactions_assessment.loaders INFO     Reading data file records\n",
      "2021-03-01 17:44:40,267 transactions_assessment.loaders INFO     786363 out of 786363 lines successfully read.\n"
     ]
    }
   ],
   "source": [
    "# increasing the dataset to include all data\n",
    "# set bootstrap max samples to 0.05\n",
    "# Note: the next few cells will take a couple minutes to run\n",
    "data_loader.limit=None\n",
    "x_train, x_test, y_train, y_test = data_loader.preprocess_data()\n",
    "rf_detector.use_bootstrap(max_samples=0.05)"
   ]
  },
  {
   "cell_type": "code",
   "execution_count": 18,
   "id": "gentle-notion",
   "metadata": {},
   "outputs": [
    {
     "name": "stderr",
     "output_type": "stream",
     "text": [
      "2021-03-01 17:46:28,995 RFDetector   INFO     Training model..\n",
      "2021-03-01 17:49:03,650 RFDetector   INFO     Model training complete.\n"
     ]
    }
   ],
   "source": [
    "rf_detector.train(x_train, y_train)"
   ]
  },
  {
   "cell_type": "code",
   "execution_count": 19,
   "id": "large-mercury",
   "metadata": {},
   "outputs": [
    {
     "name": "stdout",
     "output_type": "stream",
     "text": [
      "true positive: 54525 true negative: 564662 \n",
      "false_positive: 9903 false negative: 0 \n",
      "f1 score: 0.9167486318125646\n"
     ]
    }
   ],
   "source": [
    "rf_detector.print_confusion(x_train, y_train)"
   ]
  },
  {
   "cell_type": "code",
   "execution_count": 20,
   "id": "imposed-croatia",
   "metadata": {},
   "outputs": [
    {
     "name": "stdout",
     "output_type": "stream",
     "text": [
      "true positive: 15756 true negative: 139003 \n",
      "false_positive: 735 false negative: 1779 \n",
      "f1 score: 0.9261153235760888\n"
     ]
    }
   ],
   "source": [
    "rf_detector.print_confusion(x_test, y_test)"
   ]
  },
  {
   "cell_type": "markdown",
   "id": "literary-store",
   "metadata": {},
   "source": [
    "After loading in all of the data, we are able to get a pretty decent f1 score. We can see that the data is pretty well balanced unlike before. At this point, I am going to stop here. If I had more time I would focus on feature engineering and eventual tuning hyper-parameters, but I'm not sure if the juice is worth the squeeze there. If you look at the RFDetector and Detector classes, you can probably tell that's where I was planning on going -it wasn't intentially over-engineered. my plan was to be able to utilize the base Detector class to create more detectors with different model types. So if I had more time I would test out different classifiers, and use Randomized grid-search to tune the hyperparameters of the final model. Looking back, I probably spend too much time trying to create tools to make my work easier over the long run, but it turned out that I got too ahead of myself and ended up not having enough time to do the actual experiments I had planned. Overall, I'm not too dissapointed with my model. The main challenge of using this dataset seemed to be getting it to be balanced. Once that was done, the model almost trains itself.. I think that even with additional models, fine-tuning, and feature engineering, we could get a marginally better-fitting model but maybe not too much better than what is presented here."
   ]
  },
  {
   "cell_type": "code",
   "execution_count": null,
   "id": "fallen-times",
   "metadata": {},
   "outputs": [],
   "source": []
  }
 ],
 "metadata": {
  "kernelspec": {
   "display_name": "transactions_assessment",
   "language": "python",
   "name": "transactions_assessment"
  },
  "language_info": {
   "codemirror_mode": {
    "name": "ipython",
    "version": 3
   },
   "file_extension": ".py",
   "mimetype": "text/x-python",
   "name": "python",
   "nbconvert_exporter": "python",
   "pygments_lexer": "ipython3",
   "version": "3.9.0"
  }
 },
 "nbformat": 4,
 "nbformat_minor": 5
}
